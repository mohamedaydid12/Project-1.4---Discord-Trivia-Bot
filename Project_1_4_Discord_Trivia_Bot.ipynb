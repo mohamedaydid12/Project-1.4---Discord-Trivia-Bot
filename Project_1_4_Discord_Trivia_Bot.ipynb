{
  "nbformat": 4,
  "nbformat_minor": 0,
  "metadata": {
    "colab": {
      "provenance": [],
      "authorship_tag": "ABX9TyOca7dNQEwOg5vLNxDnC//r",
      "include_colab_link": true
    },
    "kernelspec": {
      "name": "python3",
      "display_name": "Python 3"
    },
    "language_info": {
      "name": "python"
    }
  },
  "cells": [
    {
      "cell_type": "markdown",
      "metadata": {
        "id": "view-in-github",
        "colab_type": "text"
      },
      "source": [
        "<a href=\"https://colab.research.google.com/github/mohamedaydid12/Project-1.4---Discord-Trivia-Bot/blob/main/Project_1_4_Discord_Trivia_Bot.ipynb\" target=\"_parent\"><img src=\"https://colab.research.google.com/assets/colab-badge.svg\" alt=\"Open In Colab\"/></a>"
      ]
    },
    {
      "cell_type": "code",
      "source": [
        "import commands, tasks, requests, and json from discord.ext\n",
        "\n",
        " \"YOUR_BOT_TOKEN\" = TOKEN.\n",
        " scores, instructions, bot = {}. Try: Bot(command_prefix=\"!\")  Unless: scores = json.load(open(\"scores.json\")  pass\n",
        "\n",
        " json.dump(scores, open(\"scores.json\", \"w\")) def save()\n",
        " q = requests.get(\"https://opentdb.com/api.php?amount=1&type=multiple\") is the def get_q(). JSON() [\"results\"] Return q[\"question\"], q[\"correct_answer\"], q[\"incorrect_answers\"] + [q[\"correct_answer\"]] [0]; return q[\"question\"], q[\"correct_answer\"]\n",
        "\n",
        " @tasks.loop(length=1)\n",
        " ch = discord.utils.get(bot.get_all_channels(), name=\"trivia\") async def post_q(): global ans\n",
        "     await ch.send(f\"**Trivia:** {q}\\ if ch: q, ans, opts = get_q() Option names: {', '.join(opts)}\n",
        "\n",
        " Async def on_message(m) @bot.event:\n",
        "     If m.content.lower() == ans.lower() and m.author!= bot.user:\n",
        "         scores.get(m.author.name, 0) + 1; save() = scores[m.author.name]\n",
        "         await bot.process_commands(m) await m.channel.send(f\"✅ {m.author.name} {scores[m.author.name]} points!\"\n",
        "\n",
        " Async def leaderboard(ctx) @bot.command():\n",
        "     Await the CTR. send(\"🏆 \" + \" if scores; otherwise, \"No scores yet!\" join(f\"{u}: {p}\" for u, p in sorted(scores.items(), key=lambda x: -x[1])\n",
        "\n",
        " Async def hint(ctx) @bot.command(): await ctx. \"Hint: {ans[0]}\" send(f\"  If not,  Not one\n",
        "\n",
        " Async def on_ready() @bot.event:\n",
        "     post_q.start(); print(f\"Logged in as {bot.user}\");\n",
        "\n",
        " bot.run (TOKEN)\n",
        "\n"
      ],
      "metadata": {
        "id": "Dtl5lufhFsT0"
      },
      "execution_count": null,
      "outputs": []
    }
  ]
}